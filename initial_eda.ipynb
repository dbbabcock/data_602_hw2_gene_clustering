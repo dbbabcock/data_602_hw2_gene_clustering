{
 "cells": [
  {
   "cell_type": "markdown",
   "metadata": {},
   "source": [
    "<h3>The purpose of this initial EDA notebook is to check the data and make sure there is nothing unusual that needs to be taken into account or fixed."
   ]
  },
  {
   "cell_type": "code",
   "execution_count": 42,
   "metadata": {},
   "outputs": [
    {
     "name": "stdout",
     "output_type": "stream",
     "text": [
      "Pandas version used: 1.0.5\n",
      "Numpy version used: 1.18.5\n"
     ]
    }
   ],
   "source": [
    "import pandas as pd\n",
    "from sklearn.cluster import KMeans\n",
    "import numpy as np\n",
    "\n",
    "print('Pandas version used: ' + pd.__version__)\n",
    "print('Numpy version used: ' + np.__version__)"
   ]
  },
  {
   "cell_type": "code",
   "execution_count": 2,
   "metadata": {},
   "outputs": [],
   "source": [
    "# Read in the gene expression information:\n",
    "gene_df = pd.read_csv('gene_datasets/gene_data.csv', index_col=0)"
   ]
  },
  {
   "cell_type": "code",
   "execution_count": 3,
   "metadata": {},
   "outputs": [],
   "source": [
    "# Read in the label dataframe. This contains the labels of the type of tumor associated with the sample:\n",
    "label_df = pd.read_csv('gene_datasets/gene_labels.csv', index_col=0)"
   ]
  },
  {
   "cell_type": "code",
   "execution_count": 6,
   "metadata": {},
   "outputs": [
    {
     "data": {
      "text/plain": [
       "(801, 20531)"
      ]
     },
     "execution_count": 6,
     "metadata": {},
     "output_type": "execute_result"
    }
   ],
   "source": [
    "# Check the shape of the gene dataframe:\n",
    "gene_df.shape"
   ]
  },
  {
   "cell_type": "markdown",
   "metadata": {},
   "source": [
    "The gene dataframe consists of 801 samples with 20,531 gene expression columns:"
   ]
  },
  {
   "cell_type": "code",
   "execution_count": 34,
   "metadata": {},
   "outputs": [
    {
     "data": {
      "text/html": [
       "<div>\n",
       "<style scoped>\n",
       "    .dataframe tbody tr th:only-of-type {\n",
       "        vertical-align: middle;\n",
       "    }\n",
       "\n",
       "    .dataframe tbody tr th {\n",
       "        vertical-align: top;\n",
       "    }\n",
       "\n",
       "    .dataframe thead th {\n",
       "        text-align: right;\n",
       "    }\n",
       "</style>\n",
       "<table border=\"1\" class=\"dataframe\">\n",
       "  <thead>\n",
       "    <tr style=\"text-align: right;\">\n",
       "      <th></th>\n",
       "      <th>gene_0</th>\n",
       "      <th>gene_1</th>\n",
       "      <th>gene_2</th>\n",
       "      <th>gene_3</th>\n",
       "      <th>gene_4</th>\n",
       "      <th>gene_5</th>\n",
       "      <th>gene_6</th>\n",
       "      <th>gene_7</th>\n",
       "      <th>gene_8</th>\n",
       "      <th>gene_9</th>\n",
       "      <th>...</th>\n",
       "      <th>gene_20521</th>\n",
       "      <th>gene_20522</th>\n",
       "      <th>gene_20523</th>\n",
       "      <th>gene_20524</th>\n",
       "      <th>gene_20525</th>\n",
       "      <th>gene_20526</th>\n",
       "      <th>gene_20527</th>\n",
       "      <th>gene_20528</th>\n",
       "      <th>gene_20529</th>\n",
       "      <th>gene_20530</th>\n",
       "    </tr>\n",
       "  </thead>\n",
       "  <tbody>\n",
       "    <tr>\n",
       "      <th>sample_0</th>\n",
       "      <td>0.0</td>\n",
       "      <td>2.017209</td>\n",
       "      <td>3.265527</td>\n",
       "      <td>5.478487</td>\n",
       "      <td>10.431999</td>\n",
       "      <td>0.0</td>\n",
       "      <td>7.175175</td>\n",
       "      <td>0.591871</td>\n",
       "      <td>0.0</td>\n",
       "      <td>0.000000</td>\n",
       "      <td>...</td>\n",
       "      <td>4.926711</td>\n",
       "      <td>8.210257</td>\n",
       "      <td>9.723516</td>\n",
       "      <td>7.220030</td>\n",
       "      <td>9.119813</td>\n",
       "      <td>12.003135</td>\n",
       "      <td>9.650743</td>\n",
       "      <td>8.921326</td>\n",
       "      <td>5.286759</td>\n",
       "      <td>0.0</td>\n",
       "    </tr>\n",
       "    <tr>\n",
       "      <th>sample_1</th>\n",
       "      <td>0.0</td>\n",
       "      <td>0.592732</td>\n",
       "      <td>1.588421</td>\n",
       "      <td>7.586157</td>\n",
       "      <td>9.623011</td>\n",
       "      <td>0.0</td>\n",
       "      <td>6.816049</td>\n",
       "      <td>0.000000</td>\n",
       "      <td>0.0</td>\n",
       "      <td>0.000000</td>\n",
       "      <td>...</td>\n",
       "      <td>4.593372</td>\n",
       "      <td>7.323865</td>\n",
       "      <td>9.740931</td>\n",
       "      <td>6.256586</td>\n",
       "      <td>8.381612</td>\n",
       "      <td>12.674552</td>\n",
       "      <td>10.517059</td>\n",
       "      <td>9.397854</td>\n",
       "      <td>2.094168</td>\n",
       "      <td>0.0</td>\n",
       "    </tr>\n",
       "    <tr>\n",
       "      <th>sample_2</th>\n",
       "      <td>0.0</td>\n",
       "      <td>3.511759</td>\n",
       "      <td>4.327199</td>\n",
       "      <td>6.881787</td>\n",
       "      <td>9.870730</td>\n",
       "      <td>0.0</td>\n",
       "      <td>6.972130</td>\n",
       "      <td>0.452595</td>\n",
       "      <td>0.0</td>\n",
       "      <td>0.000000</td>\n",
       "      <td>...</td>\n",
       "      <td>5.125213</td>\n",
       "      <td>8.127123</td>\n",
       "      <td>10.908640</td>\n",
       "      <td>5.401607</td>\n",
       "      <td>9.911597</td>\n",
       "      <td>9.045255</td>\n",
       "      <td>9.788359</td>\n",
       "      <td>10.090470</td>\n",
       "      <td>1.683023</td>\n",
       "      <td>0.0</td>\n",
       "    </tr>\n",
       "    <tr>\n",
       "      <th>sample_3</th>\n",
       "      <td>0.0</td>\n",
       "      <td>3.663618</td>\n",
       "      <td>4.507649</td>\n",
       "      <td>6.659068</td>\n",
       "      <td>10.196184</td>\n",
       "      <td>0.0</td>\n",
       "      <td>7.843375</td>\n",
       "      <td>0.434882</td>\n",
       "      <td>0.0</td>\n",
       "      <td>0.000000</td>\n",
       "      <td>...</td>\n",
       "      <td>6.076566</td>\n",
       "      <td>8.792959</td>\n",
       "      <td>10.141520</td>\n",
       "      <td>8.942805</td>\n",
       "      <td>9.601208</td>\n",
       "      <td>11.392682</td>\n",
       "      <td>9.694814</td>\n",
       "      <td>9.684365</td>\n",
       "      <td>3.292001</td>\n",
       "      <td>0.0</td>\n",
       "    </tr>\n",
       "    <tr>\n",
       "      <th>sample_4</th>\n",
       "      <td>0.0</td>\n",
       "      <td>2.655741</td>\n",
       "      <td>2.821547</td>\n",
       "      <td>6.539454</td>\n",
       "      <td>9.738265</td>\n",
       "      <td>0.0</td>\n",
       "      <td>6.566967</td>\n",
       "      <td>0.360982</td>\n",
       "      <td>0.0</td>\n",
       "      <td>0.000000</td>\n",
       "      <td>...</td>\n",
       "      <td>5.996032</td>\n",
       "      <td>8.891425</td>\n",
       "      <td>10.373790</td>\n",
       "      <td>7.181162</td>\n",
       "      <td>9.846910</td>\n",
       "      <td>11.922439</td>\n",
       "      <td>9.217749</td>\n",
       "      <td>9.461191</td>\n",
       "      <td>5.110372</td>\n",
       "      <td>0.0</td>\n",
       "    </tr>\n",
       "    <tr>\n",
       "      <th>sample_5</th>\n",
       "      <td>0.0</td>\n",
       "      <td>3.467853</td>\n",
       "      <td>3.581918</td>\n",
       "      <td>6.620243</td>\n",
       "      <td>9.706829</td>\n",
       "      <td>0.0</td>\n",
       "      <td>7.758510</td>\n",
       "      <td>0.000000</td>\n",
       "      <td>0.0</td>\n",
       "      <td>0.000000</td>\n",
       "      <td>...</td>\n",
       "      <td>5.726657</td>\n",
       "      <td>8.602588</td>\n",
       "      <td>9.928339</td>\n",
       "      <td>6.096154</td>\n",
       "      <td>9.816001</td>\n",
       "      <td>11.556995</td>\n",
       "      <td>9.244150</td>\n",
       "      <td>9.836473</td>\n",
       "      <td>5.355133</td>\n",
       "      <td>0.0</td>\n",
       "    </tr>\n",
       "    <tr>\n",
       "      <th>sample_6</th>\n",
       "      <td>0.0</td>\n",
       "      <td>1.224966</td>\n",
       "      <td>1.691177</td>\n",
       "      <td>6.572007</td>\n",
       "      <td>9.640511</td>\n",
       "      <td>0.0</td>\n",
       "      <td>6.754888</td>\n",
       "      <td>0.531868</td>\n",
       "      <td>0.0</td>\n",
       "      <td>0.000000</td>\n",
       "      <td>...</td>\n",
       "      <td>5.105904</td>\n",
       "      <td>7.927968</td>\n",
       "      <td>9.673966</td>\n",
       "      <td>1.877744</td>\n",
       "      <td>9.802692</td>\n",
       "      <td>13.256060</td>\n",
       "      <td>9.664486</td>\n",
       "      <td>9.244219</td>\n",
       "      <td>8.330912</td>\n",
       "      <td>0.0</td>\n",
       "    </tr>\n",
       "    <tr>\n",
       "      <th>sample_7</th>\n",
       "      <td>0.0</td>\n",
       "      <td>2.854853</td>\n",
       "      <td>1.750478</td>\n",
       "      <td>7.226720</td>\n",
       "      <td>9.758691</td>\n",
       "      <td>0.0</td>\n",
       "      <td>5.952103</td>\n",
       "      <td>0.000000</td>\n",
       "      <td>0.0</td>\n",
       "      <td>0.000000</td>\n",
       "      <td>...</td>\n",
       "      <td>5.297833</td>\n",
       "      <td>8.277092</td>\n",
       "      <td>9.599230</td>\n",
       "      <td>5.244290</td>\n",
       "      <td>9.994339</td>\n",
       "      <td>12.670377</td>\n",
       "      <td>9.987733</td>\n",
       "      <td>9.216872</td>\n",
       "      <td>6.551490</td>\n",
       "      <td>0.0</td>\n",
       "    </tr>\n",
       "    <tr>\n",
       "      <th>sample_8</th>\n",
       "      <td>0.0</td>\n",
       "      <td>3.992125</td>\n",
       "      <td>2.772730</td>\n",
       "      <td>6.546692</td>\n",
       "      <td>10.488252</td>\n",
       "      <td>0.0</td>\n",
       "      <td>7.690222</td>\n",
       "      <td>0.352307</td>\n",
       "      <td>0.0</td>\n",
       "      <td>4.067604</td>\n",
       "      <td>...</td>\n",
       "      <td>6.721974</td>\n",
       "      <td>9.597533</td>\n",
       "      <td>9.763753</td>\n",
       "      <td>7.933278</td>\n",
       "      <td>10.952880</td>\n",
       "      <td>12.498919</td>\n",
       "      <td>10.389954</td>\n",
       "      <td>10.390255</td>\n",
       "      <td>7.828321</td>\n",
       "      <td>0.0</td>\n",
       "    </tr>\n",
       "    <tr>\n",
       "      <th>sample_9</th>\n",
       "      <td>0.0</td>\n",
       "      <td>3.642494</td>\n",
       "      <td>4.423558</td>\n",
       "      <td>6.849511</td>\n",
       "      <td>9.464466</td>\n",
       "      <td>0.0</td>\n",
       "      <td>7.947216</td>\n",
       "      <td>0.724214</td>\n",
       "      <td>0.0</td>\n",
       "      <td>0.000000</td>\n",
       "      <td>...</td>\n",
       "      <td>6.020051</td>\n",
       "      <td>8.712809</td>\n",
       "      <td>10.259096</td>\n",
       "      <td>6.131583</td>\n",
       "      <td>9.923582</td>\n",
       "      <td>11.144295</td>\n",
       "      <td>9.244851</td>\n",
       "      <td>9.484299</td>\n",
       "      <td>4.759151</td>\n",
       "      <td>0.0</td>\n",
       "    </tr>\n",
       "  </tbody>\n",
       "</table>\n",
       "<p>10 rows × 20531 columns</p>\n",
       "</div>"
      ],
      "text/plain": [
       "          gene_0    gene_1    gene_2    gene_3     gene_4  gene_5    gene_6  \\\n",
       "sample_0     0.0  2.017209  3.265527  5.478487  10.431999     0.0  7.175175   \n",
       "sample_1     0.0  0.592732  1.588421  7.586157   9.623011     0.0  6.816049   \n",
       "sample_2     0.0  3.511759  4.327199  6.881787   9.870730     0.0  6.972130   \n",
       "sample_3     0.0  3.663618  4.507649  6.659068  10.196184     0.0  7.843375   \n",
       "sample_4     0.0  2.655741  2.821547  6.539454   9.738265     0.0  6.566967   \n",
       "sample_5     0.0  3.467853  3.581918  6.620243   9.706829     0.0  7.758510   \n",
       "sample_6     0.0  1.224966  1.691177  6.572007   9.640511     0.0  6.754888   \n",
       "sample_7     0.0  2.854853  1.750478  7.226720   9.758691     0.0  5.952103   \n",
       "sample_8     0.0  3.992125  2.772730  6.546692  10.488252     0.0  7.690222   \n",
       "sample_9     0.0  3.642494  4.423558  6.849511   9.464466     0.0  7.947216   \n",
       "\n",
       "            gene_7  gene_8    gene_9  ...  gene_20521  gene_20522  gene_20523  \\\n",
       "sample_0  0.591871     0.0  0.000000  ...    4.926711    8.210257    9.723516   \n",
       "sample_1  0.000000     0.0  0.000000  ...    4.593372    7.323865    9.740931   \n",
       "sample_2  0.452595     0.0  0.000000  ...    5.125213    8.127123   10.908640   \n",
       "sample_3  0.434882     0.0  0.000000  ...    6.076566    8.792959   10.141520   \n",
       "sample_4  0.360982     0.0  0.000000  ...    5.996032    8.891425   10.373790   \n",
       "sample_5  0.000000     0.0  0.000000  ...    5.726657    8.602588    9.928339   \n",
       "sample_6  0.531868     0.0  0.000000  ...    5.105904    7.927968    9.673966   \n",
       "sample_7  0.000000     0.0  0.000000  ...    5.297833    8.277092    9.599230   \n",
       "sample_8  0.352307     0.0  4.067604  ...    6.721974    9.597533    9.763753   \n",
       "sample_9  0.724214     0.0  0.000000  ...    6.020051    8.712809   10.259096   \n",
       "\n",
       "          gene_20524  gene_20525  gene_20526  gene_20527  gene_20528  \\\n",
       "sample_0    7.220030    9.119813   12.003135    9.650743    8.921326   \n",
       "sample_1    6.256586    8.381612   12.674552   10.517059    9.397854   \n",
       "sample_2    5.401607    9.911597    9.045255    9.788359   10.090470   \n",
       "sample_3    8.942805    9.601208   11.392682    9.694814    9.684365   \n",
       "sample_4    7.181162    9.846910   11.922439    9.217749    9.461191   \n",
       "sample_5    6.096154    9.816001   11.556995    9.244150    9.836473   \n",
       "sample_6    1.877744    9.802692   13.256060    9.664486    9.244219   \n",
       "sample_7    5.244290    9.994339   12.670377    9.987733    9.216872   \n",
       "sample_8    7.933278   10.952880   12.498919   10.389954   10.390255   \n",
       "sample_9    6.131583    9.923582   11.144295    9.244851    9.484299   \n",
       "\n",
       "          gene_20529  gene_20530  \n",
       "sample_0    5.286759         0.0  \n",
       "sample_1    2.094168         0.0  \n",
       "sample_2    1.683023         0.0  \n",
       "sample_3    3.292001         0.0  \n",
       "sample_4    5.110372         0.0  \n",
       "sample_5    5.355133         0.0  \n",
       "sample_6    8.330912         0.0  \n",
       "sample_7    6.551490         0.0  \n",
       "sample_8    7.828321         0.0  \n",
       "sample_9    4.759151         0.0  \n",
       "\n",
       "[10 rows x 20531 columns]"
      ]
     },
     "execution_count": 34,
     "metadata": {},
     "output_type": "execute_result"
    }
   ],
   "source": [
    "gene_df.head(10)"
   ]
  },
  {
   "cell_type": "markdown",
   "metadata": {},
   "source": [
    "It would appear based off of this very small snippet of the dataframe that gene expression levels seem to fall between 0 and a little over 12."
   ]
  },
  {
   "cell_type": "markdown",
   "metadata": {},
   "source": [
    "These gene expression values are likely standardized based off of the relative expression versus the expression of a common human 'housekeeping' gene. Housekeeping genes are genes that are expressed as a normal part of cellular function and so their expression is not expected to fluctuate much if at all.\n",
    "\n",
    "So, for example, the value of 2.017209 for gene_1 of sample_0 means that this gene was expressed a little over twice as much as the housekeeping gene. A reading of 0.0 means the gene was not expressed at all. A value of 1.0 would mean that the gene was expressed exactly as much as the reference gene.\n",
    "\n",
    "References:\n",
    "\n",
    "https://academic.oup.com/nar/advance-article/doi/10.1093/nar/gkaa609/5871367\n",
    "\n",
    "https://journals.physiology.org/doi/full/10.1152/physiolgenomics.2001.7.2.95\n",
    "\n",
    "A database of reference genes for human and mice can be found here:\n",
    "\n",
    "http://www.housekeeping.unicamp.br/"
   ]
  },
  {
   "cell_type": "markdown",
   "metadata": {},
   "source": [
    "Let's also look at the label_df and how many of each type of tumor we have samples for:"
   ]
  },
  {
   "cell_type": "code",
   "execution_count": 40,
   "metadata": {},
   "outputs": [
    {
     "data": {
      "text/plain": [
       "(array(['BRCA', 'COAD', 'KIRC', 'LUAD', 'PRAD'], dtype=object),\n",
       " array([300,  78, 146, 141, 136], dtype=int64))"
      ]
     },
     "execution_count": 40,
     "metadata": {},
     "output_type": "execute_result"
    }
   ],
   "source": [
    "# Check the number of each tumor type in the label dataframe:\n",
    "np.unique(label_df, return_counts=True)"
   ]
  },
  {
   "cell_type": "markdown",
   "metadata": {},
   "source": [
    "In this dataframe, we have:\n",
    "\n",
    "300 BRCA tumors,<br>\n",
    "78 COAD tumors,<br>\n",
    "146 KIRC tumors,<br>\n",
    "141 LUAD tumors,<br>\n",
    "136 PRAD tumors."
   ]
  },
  {
   "cell_type": "markdown",
   "metadata": {},
   "source": [
    "The tumor labels correspond to the following types of tumors:<br>\n",
    "\n",
    "BRCA = Breast Carcinoma<br>\n",
    "COAD = Colon Adenocarcinoma<br>\n",
    "KIRC = Kidney Renal Clear Cell Carcinoma<br>\n",
    "LUAD = Lung Adenocarcinoma<br>\n",
    "PRAD = Prostate Adenocarcinoma<br>\n",
    "\n",
    "Information from:\n",
    "\n",
    "Cancer Genome Atlas Research Network, Weinstein JN, Collisson EA, et al. The Cancer Genome Atlas Pan-Cancer analysis project. Nat Genet. 2013;45(10):1113-1120. doi:10.1038/ng.2764"
   ]
  },
  {
   "cell_type": "markdown",
   "metadata": {},
   "source": [
    "So most of our samples come from patients with a tumor of the breast carcinoma variety."
   ]
  },
  {
   "cell_type": "code",
   "execution_count": 36,
   "metadata": {},
   "outputs": [
    {
     "data": {
      "text/plain": [
       "0"
      ]
     },
     "execution_count": 36,
     "metadata": {},
     "output_type": "execute_result"
    }
   ],
   "source": [
    "# Let's Make sure there are no null values in our gene dataframe.\n",
    "# There are so many features that it's easiest to just sum the sum:\n",
    "sum(gene_df.isnull().sum())"
   ]
  },
  {
   "cell_type": "markdown",
   "metadata": {},
   "source": [
    "There do not appear to be any null values, and according to the source there are no missing or otherwise unusual values included. With..."
   ]
  },
  {
   "cell_type": "code",
   "execution_count": 37,
   "metadata": {},
   "outputs": [
    {
     "data": {
      "text/plain": [
       "16445331"
      ]
     },
     "execution_count": 37,
     "metadata": {},
     "output_type": "execute_result"
    }
   ],
   "source": [
    "801*20531"
   ]
  },
  {
   "cell_type": "markdown",
   "metadata": {},
   "source": [
    "16,445,331 values, I will take their word for it but I will do some other tests just to make sure:"
   ]
  },
  {
   "cell_type": "code",
   "execution_count": 52,
   "metadata": {},
   "outputs": [
    {
     "data": {
      "text/html": [
       "<div>\n",
       "<style scoped>\n",
       "    .dataframe tbody tr th:only-of-type {\n",
       "        vertical-align: middle;\n",
       "    }\n",
       "\n",
       "    .dataframe tbody tr th {\n",
       "        vertical-align: top;\n",
       "    }\n",
       "\n",
       "    .dataframe thead th {\n",
       "        text-align: right;\n",
       "    }\n",
       "</style>\n",
       "<table border=\"1\" class=\"dataframe\">\n",
       "  <thead>\n",
       "    <tr style=\"text-align: right;\">\n",
       "      <th></th>\n",
       "      <th>gene_0</th>\n",
       "      <th>gene_1</th>\n",
       "      <th>gene_2</th>\n",
       "      <th>gene_3</th>\n",
       "      <th>gene_4</th>\n",
       "      <th>gene_5</th>\n",
       "      <th>gene_6</th>\n",
       "      <th>gene_7</th>\n",
       "      <th>gene_8</th>\n",
       "      <th>gene_9</th>\n",
       "      <th>...</th>\n",
       "      <th>gene_20521</th>\n",
       "      <th>gene_20522</th>\n",
       "      <th>gene_20523</th>\n",
       "      <th>gene_20524</th>\n",
       "      <th>gene_20525</th>\n",
       "      <th>gene_20526</th>\n",
       "      <th>gene_20527</th>\n",
       "      <th>gene_20528</th>\n",
       "      <th>gene_20529</th>\n",
       "      <th>gene_20530</th>\n",
       "    </tr>\n",
       "  </thead>\n",
       "  <tbody>\n",
       "  </tbody>\n",
       "</table>\n",
       "<p>0 rows × 20531 columns</p>\n",
       "</div>"
      ],
      "text/plain": [
       "Empty DataFrame\n",
       "Columns: [gene_0, gene_1, gene_2, gene_3, gene_4, gene_5, gene_6, gene_7, gene_8, gene_9, gene_10, gene_11, gene_12, gene_13, gene_14, gene_15, gene_16, gene_17, gene_18, gene_19, gene_20, gene_21, gene_22, gene_23, gene_24, gene_25, gene_26, gene_27, gene_28, gene_29, gene_30, gene_31, gene_32, gene_33, gene_34, gene_35, gene_36, gene_37, gene_38, gene_39, gene_40, gene_41, gene_42, gene_43, gene_44, gene_45, gene_46, gene_47, gene_48, gene_49, gene_50, gene_51, gene_52, gene_53, gene_54, gene_55, gene_56, gene_57, gene_58, gene_59, gene_60, gene_61, gene_62, gene_63, gene_64, gene_65, gene_66, gene_67, gene_68, gene_69, gene_70, gene_71, gene_72, gene_73, gene_74, gene_75, gene_76, gene_77, gene_78, gene_79, gene_80, gene_81, gene_82, gene_83, gene_84, gene_85, gene_86, gene_87, gene_88, gene_89, gene_90, gene_91, gene_92, gene_93, gene_94, gene_95, gene_96, gene_97, gene_98, gene_99, ...]\n",
       "Index: []\n",
       "\n",
       "[0 rows x 20531 columns]"
      ]
     },
     "execution_count": 52,
     "metadata": {},
     "output_type": "execute_result"
    }
   ],
   "source": [
    "# There shouldn't be any negative values, but let's just make sure:\n",
    "gene_df[(gene_df < 0).all(1)]"
   ]
  },
  {
   "cell_type": "markdown",
   "metadata": {},
   "source": [
    "No negative values is a good sign. Let's check the average value across the entire dataframe too:"
   ]
  },
  {
   "cell_type": "code",
   "execution_count": 53,
   "metadata": {},
   "outputs": [
    {
     "name": "stdout",
     "output_type": "stream",
     "text": [
      "132287.8494550156 6.44332226657326\n"
     ]
    }
   ],
   "source": [
    "# Add up the sum of each column and then divide it by the number of columns to get an average value:\n",
    "sum_col = 0\n",
    "for col in gene_df.mean(axis=0):\n",
    "    sum_col = sum_col + col\n",
    "print(sum_col, sum_col/len(gene_df.columns))"
   ]
  },
  {
   "cell_type": "markdown",
   "metadata": {},
   "source": [
    "The average value, 6.44 seems reasonable given what we saw in the snippet of the dataframe above. This hopefully demonstrates there are no errant values contained in the dataset."
   ]
  },
  {
   "cell_type": "markdown",
   "metadata": {},
   "source": [
    "Since the dataset seems to be in good shape, I will continue on to perform the clustering."
   ]
  },
  {
   "cell_type": "code",
   "execution_count": null,
   "metadata": {},
   "outputs": [],
   "source": []
  }
 ],
 "metadata": {
  "kernelspec": {
   "display_name": "Python 3",
   "language": "python",
   "name": "python3"
  },
  "language_info": {
   "codemirror_mode": {
    "name": "ipython",
    "version": 3
   },
   "file_extension": ".py",
   "mimetype": "text/x-python",
   "name": "python",
   "nbconvert_exporter": "python",
   "pygments_lexer": "ipython3",
   "version": "3.8.3"
  }
 },
 "nbformat": 4,
 "nbformat_minor": 4
}
