{
 "cells": [
  {
   "cell_type": "code",
   "execution_count": 54,
   "metadata": {},
   "outputs": [
    {
     "name": "stdout",
     "output_type": "stream",
     "text": [
      "Pandas version used: 1.0.5\n"
     ]
    }
   ],
   "source": [
    "import pandas as pd\n",
    "from sklearn.cluster import KMeans\n",
    "\n",
    "print('Pandas version used: ' + pd.__version__)"
   ]
  },
  {
   "cell_type": "code",
   "execution_count": 8,
   "metadata": {},
   "outputs": [],
   "source": [
    "gene_df = pd.read_csv('gene_data.csv', index_col=0)"
   ]
  },
  {
   "cell_type": "code",
   "execution_count": 11,
   "metadata": {},
   "outputs": [],
   "source": [
    "label_df = pd.read_csv('gene_labels.csv', index_col=0)"
   ]
  },
  {
   "cell_type": "code",
   "execution_count": 12,
   "metadata": {},
   "outputs": [
    {
     "data": {
      "text/html": [
       "<div>\n",
       "<style scoped>\n",
       "    .dataframe tbody tr th:only-of-type {\n",
       "        vertical-align: middle;\n",
       "    }\n",
       "\n",
       "    .dataframe tbody tr th {\n",
       "        vertical-align: top;\n",
       "    }\n",
       "\n",
       "    .dataframe thead th {\n",
       "        text-align: right;\n",
       "    }\n",
       "</style>\n",
       "<table border=\"1\" class=\"dataframe\">\n",
       "  <thead>\n",
       "    <tr style=\"text-align: right;\">\n",
       "      <th></th>\n",
       "      <th>gene_0</th>\n",
       "      <th>gene_1</th>\n",
       "      <th>gene_2</th>\n",
       "      <th>gene_3</th>\n",
       "      <th>gene_4</th>\n",
       "      <th>gene_5</th>\n",
       "      <th>gene_6</th>\n",
       "      <th>gene_7</th>\n",
       "      <th>gene_8</th>\n",
       "      <th>gene_9</th>\n",
       "      <th>...</th>\n",
       "      <th>gene_20521</th>\n",
       "      <th>gene_20522</th>\n",
       "      <th>gene_20523</th>\n",
       "      <th>gene_20524</th>\n",
       "      <th>gene_20525</th>\n",
       "      <th>gene_20526</th>\n",
       "      <th>gene_20527</th>\n",
       "      <th>gene_20528</th>\n",
       "      <th>gene_20529</th>\n",
       "      <th>gene_20530</th>\n",
       "    </tr>\n",
       "  </thead>\n",
       "  <tbody>\n",
       "    <tr>\n",
       "      <th>sample_0</th>\n",
       "      <td>0.0</td>\n",
       "      <td>2.017209</td>\n",
       "      <td>3.265527</td>\n",
       "      <td>5.478487</td>\n",
       "      <td>10.431999</td>\n",
       "      <td>0.0</td>\n",
       "      <td>7.175175</td>\n",
       "      <td>0.591871</td>\n",
       "      <td>0.0</td>\n",
       "      <td>0.0</td>\n",
       "      <td>...</td>\n",
       "      <td>4.926711</td>\n",
       "      <td>8.210257</td>\n",
       "      <td>9.723516</td>\n",
       "      <td>7.220030</td>\n",
       "      <td>9.119813</td>\n",
       "      <td>12.003135</td>\n",
       "      <td>9.650743</td>\n",
       "      <td>8.921326</td>\n",
       "      <td>5.286759</td>\n",
       "      <td>0.0</td>\n",
       "    </tr>\n",
       "    <tr>\n",
       "      <th>sample_1</th>\n",
       "      <td>0.0</td>\n",
       "      <td>0.592732</td>\n",
       "      <td>1.588421</td>\n",
       "      <td>7.586157</td>\n",
       "      <td>9.623011</td>\n",
       "      <td>0.0</td>\n",
       "      <td>6.816049</td>\n",
       "      <td>0.000000</td>\n",
       "      <td>0.0</td>\n",
       "      <td>0.0</td>\n",
       "      <td>...</td>\n",
       "      <td>4.593372</td>\n",
       "      <td>7.323865</td>\n",
       "      <td>9.740931</td>\n",
       "      <td>6.256586</td>\n",
       "      <td>8.381612</td>\n",
       "      <td>12.674552</td>\n",
       "      <td>10.517059</td>\n",
       "      <td>9.397854</td>\n",
       "      <td>2.094168</td>\n",
       "      <td>0.0</td>\n",
       "    </tr>\n",
       "    <tr>\n",
       "      <th>sample_2</th>\n",
       "      <td>0.0</td>\n",
       "      <td>3.511759</td>\n",
       "      <td>4.327199</td>\n",
       "      <td>6.881787</td>\n",
       "      <td>9.870730</td>\n",
       "      <td>0.0</td>\n",
       "      <td>6.972130</td>\n",
       "      <td>0.452595</td>\n",
       "      <td>0.0</td>\n",
       "      <td>0.0</td>\n",
       "      <td>...</td>\n",
       "      <td>5.125213</td>\n",
       "      <td>8.127123</td>\n",
       "      <td>10.908640</td>\n",
       "      <td>5.401607</td>\n",
       "      <td>9.911597</td>\n",
       "      <td>9.045255</td>\n",
       "      <td>9.788359</td>\n",
       "      <td>10.090470</td>\n",
       "      <td>1.683023</td>\n",
       "      <td>0.0</td>\n",
       "    </tr>\n",
       "    <tr>\n",
       "      <th>sample_3</th>\n",
       "      <td>0.0</td>\n",
       "      <td>3.663618</td>\n",
       "      <td>4.507649</td>\n",
       "      <td>6.659068</td>\n",
       "      <td>10.196184</td>\n",
       "      <td>0.0</td>\n",
       "      <td>7.843375</td>\n",
       "      <td>0.434882</td>\n",
       "      <td>0.0</td>\n",
       "      <td>0.0</td>\n",
       "      <td>...</td>\n",
       "      <td>6.076566</td>\n",
       "      <td>8.792959</td>\n",
       "      <td>10.141520</td>\n",
       "      <td>8.942805</td>\n",
       "      <td>9.601208</td>\n",
       "      <td>11.392682</td>\n",
       "      <td>9.694814</td>\n",
       "      <td>9.684365</td>\n",
       "      <td>3.292001</td>\n",
       "      <td>0.0</td>\n",
       "    </tr>\n",
       "    <tr>\n",
       "      <th>sample_4</th>\n",
       "      <td>0.0</td>\n",
       "      <td>2.655741</td>\n",
       "      <td>2.821547</td>\n",
       "      <td>6.539454</td>\n",
       "      <td>9.738265</td>\n",
       "      <td>0.0</td>\n",
       "      <td>6.566967</td>\n",
       "      <td>0.360982</td>\n",
       "      <td>0.0</td>\n",
       "      <td>0.0</td>\n",
       "      <td>...</td>\n",
       "      <td>5.996032</td>\n",
       "      <td>8.891425</td>\n",
       "      <td>10.373790</td>\n",
       "      <td>7.181162</td>\n",
       "      <td>9.846910</td>\n",
       "      <td>11.922439</td>\n",
       "      <td>9.217749</td>\n",
       "      <td>9.461191</td>\n",
       "      <td>5.110372</td>\n",
       "      <td>0.0</td>\n",
       "    </tr>\n",
       "  </tbody>\n",
       "</table>\n",
       "<p>5 rows × 20531 columns</p>\n",
       "</div>"
      ],
      "text/plain": [
       "          gene_0    gene_1    gene_2    gene_3     gene_4  gene_5    gene_6  \\\n",
       "sample_0     0.0  2.017209  3.265527  5.478487  10.431999     0.0  7.175175   \n",
       "sample_1     0.0  0.592732  1.588421  7.586157   9.623011     0.0  6.816049   \n",
       "sample_2     0.0  3.511759  4.327199  6.881787   9.870730     0.0  6.972130   \n",
       "sample_3     0.0  3.663618  4.507649  6.659068  10.196184     0.0  7.843375   \n",
       "sample_4     0.0  2.655741  2.821547  6.539454   9.738265     0.0  6.566967   \n",
       "\n",
       "            gene_7  gene_8  gene_9  ...  gene_20521  gene_20522  gene_20523  \\\n",
       "sample_0  0.591871     0.0     0.0  ...    4.926711    8.210257    9.723516   \n",
       "sample_1  0.000000     0.0     0.0  ...    4.593372    7.323865    9.740931   \n",
       "sample_2  0.452595     0.0     0.0  ...    5.125213    8.127123   10.908640   \n",
       "sample_3  0.434882     0.0     0.0  ...    6.076566    8.792959   10.141520   \n",
       "sample_4  0.360982     0.0     0.0  ...    5.996032    8.891425   10.373790   \n",
       "\n",
       "          gene_20524  gene_20525  gene_20526  gene_20527  gene_20528  \\\n",
       "sample_0    7.220030    9.119813   12.003135    9.650743    8.921326   \n",
       "sample_1    6.256586    8.381612   12.674552   10.517059    9.397854   \n",
       "sample_2    5.401607    9.911597    9.045255    9.788359   10.090470   \n",
       "sample_3    8.942805    9.601208   11.392682    9.694814    9.684365   \n",
       "sample_4    7.181162    9.846910   11.922439    9.217749    9.461191   \n",
       "\n",
       "          gene_20529  gene_20530  \n",
       "sample_0    5.286759         0.0  \n",
       "sample_1    2.094168         0.0  \n",
       "sample_2    1.683023         0.0  \n",
       "sample_3    3.292001         0.0  \n",
       "sample_4    5.110372         0.0  \n",
       "\n",
       "[5 rows x 20531 columns]"
      ]
     },
     "execution_count": 12,
     "metadata": {},
     "output_type": "execute_result"
    }
   ],
   "source": [
    "gene_df.head()"
   ]
  },
  {
   "cell_type": "code",
   "execution_count": 13,
   "metadata": {},
   "outputs": [
    {
     "data": {
      "text/html": [
       "<div>\n",
       "<style scoped>\n",
       "    .dataframe tbody tr th:only-of-type {\n",
       "        vertical-align: middle;\n",
       "    }\n",
       "\n",
       "    .dataframe tbody tr th {\n",
       "        vertical-align: top;\n",
       "    }\n",
       "\n",
       "    .dataframe thead th {\n",
       "        text-align: right;\n",
       "    }\n",
       "</style>\n",
       "<table border=\"1\" class=\"dataframe\">\n",
       "  <thead>\n",
       "    <tr style=\"text-align: right;\">\n",
       "      <th></th>\n",
       "      <th>Class</th>\n",
       "    </tr>\n",
       "  </thead>\n",
       "  <tbody>\n",
       "    <tr>\n",
       "      <th>sample_0</th>\n",
       "      <td>PRAD</td>\n",
       "    </tr>\n",
       "    <tr>\n",
       "      <th>sample_1</th>\n",
       "      <td>LUAD</td>\n",
       "    </tr>\n",
       "    <tr>\n",
       "      <th>sample_2</th>\n",
       "      <td>PRAD</td>\n",
       "    </tr>\n",
       "    <tr>\n",
       "      <th>sample_3</th>\n",
       "      <td>PRAD</td>\n",
       "    </tr>\n",
       "    <tr>\n",
       "      <th>sample_4</th>\n",
       "      <td>BRCA</td>\n",
       "    </tr>\n",
       "  </tbody>\n",
       "</table>\n",
       "</div>"
      ],
      "text/plain": [
       "         Class\n",
       "sample_0  PRAD\n",
       "sample_1  LUAD\n",
       "sample_2  PRAD\n",
       "sample_3  PRAD\n",
       "sample_4  BRCA"
      ]
     },
     "execution_count": 13,
     "metadata": {},
     "output_type": "execute_result"
    }
   ],
   "source": [
    "label_df.head()"
   ]
  },
  {
   "cell_type": "code",
   "execution_count": 51,
   "metadata": {},
   "outputs": [
    {
     "data": {
      "text/plain": [
       "array(['PRAD', 'LUAD', 'BRCA', 'KIRC', 'COAD'], dtype=object)"
      ]
     },
     "execution_count": 51,
     "metadata": {},
     "output_type": "execute_result"
    }
   ],
   "source": [
    "label_df.Class.unique()"
   ]
  },
  {
   "cell_type": "code",
   "execution_count": 14,
   "metadata": {},
   "outputs": [
    {
     "data": {
      "text/plain": [
       "(801, 20531)"
      ]
     },
     "execution_count": 14,
     "metadata": {},
     "output_type": "execute_result"
    }
   ],
   "source": [
    "gene_df.shape"
   ]
  },
  {
   "cell_type": "code",
   "execution_count": 31,
   "metadata": {},
   "outputs": [
    {
     "data": {
      "text/plain": [
       "0"
      ]
     },
     "execution_count": 31,
     "metadata": {},
     "output_type": "execute_result"
    }
   ],
   "source": [
    "# Make sure there are no null values. There are so many features that it's easiest to just sum the sum:\n",
    "sum(gene_df.isnull().sum())"
   ]
  },
  {
   "cell_type": "code",
   "execution_count": 16,
   "metadata": {},
   "outputs": [
    {
     "data": {
      "text/plain": [
       "(801, 20531)"
      ]
     },
     "execution_count": 16,
     "metadata": {},
     "output_type": "execute_result"
    }
   ],
   "source": [
    "gene_df.shape"
   ]
  },
  {
   "cell_type": "code",
   "execution_count": 62,
   "metadata": {},
   "outputs": [],
   "source": [
    "genes_km = KMeans(n_clusters=5,\n",
    "                  init='random',\n",
    "                  max_iter=100)"
   ]
  },
  {
   "cell_type": "code",
   "execution_count": 67,
   "metadata": {},
   "outputs": [],
   "source": [
    "genes_km_clust = genes_km.fit_predict(gene_df)"
   ]
  },
  {
   "cell_type": "code",
   "execution_count": 68,
   "metadata": {},
   "outputs": [
    {
     "data": {
      "text/plain": [
       "array([0, 3, 0, 0, 2, 0, 4, 0, 2, 0, 2, 4, 0, 2, 2, 2, 3, 4, 4, 0, 2, 4,\n",
       "       3, 2, 4, 3, 1, 2, 2, 2, 2, 2, 4, 2, 0, 2, 4, 3, 2, 2, 4, 0, 0, 4,\n",
       "       4, 2, 0, 1, 2, 3, 2, 3, 2, 0, 1, 2, 2, 1, 4, 2, 3, 2, 2, 3, 0, 1,\n",
       "       2, 0, 4, 2, 4, 2, 2, 3, 2, 3, 2, 4, 0, 1, 2, 0, 2, 2, 0, 0, 2, 2,\n",
       "       4, 2, 0, 0, 2, 2, 2, 0, 1, 2, 0, 2, 2, 4, 2, 4, 3, 4, 3, 1, 3, 3,\n",
       "       0, 2, 3, 0, 2, 4, 4, 4, 2, 2, 3, 4, 3, 2, 0, 0, 0, 2, 4, 2, 1, 2,\n",
       "       1, 2, 2, 4, 3, 2, 4, 1, 2, 0, 2, 4, 3, 1, 0, 2, 3, 3, 3, 3, 2, 2,\n",
       "       3, 2, 2, 0, 0, 3, 0, 3, 4, 2, 0, 3, 1, 4, 3, 2, 4, 3, 2, 3, 2, 2,\n",
       "       2, 0, 2, 4, 1, 4, 2, 0, 0, 0, 3, 3, 2, 3, 3, 4, 3, 0, 3, 2, 2, 2,\n",
       "       3, 3, 2, 4, 4, 4, 4, 0, 2, 0, 2, 3, 3, 2, 0, 2, 0, 2, 2, 2, 3, 2,\n",
       "       4, 3, 4, 4, 3, 2, 4, 0, 2, 3, 3, 0, 1, 2, 4, 0, 4, 1, 2, 4, 4, 3,\n",
       "       0, 0, 3, 3, 4, 2, 2, 1, 2, 0, 1, 2, 0, 4, 0, 0, 0, 2, 1, 1, 3, 1,\n",
       "       1, 0, 3, 2, 2, 4, 4, 2, 1, 0, 4, 0, 2, 2, 4, 2, 2, 2, 2, 3, 3, 2,\n",
       "       2, 2, 4, 4, 4, 4, 2, 2, 2, 4, 2, 2, 3, 0, 2, 2, 1, 3, 0, 2, 2, 2,\n",
       "       1, 2, 0, 2, 1, 3, 3, 0, 4, 2, 4, 4, 3, 1, 4, 2, 2, 2, 2, 4, 2, 2,\n",
       "       0, 2, 4, 2, 3, 0, 4, 2, 0, 1, 2, 2, 2, 3, 3, 3, 2, 2, 0, 3, 2, 4,\n",
       "       2, 1, 1, 3, 2, 4, 2, 2, 2, 1, 3, 1, 4, 0, 4, 2, 2, 4, 2, 1, 0, 3,\n",
       "       0, 2, 4, 0, 2, 1, 4, 4, 1, 1, 0, 2, 2, 1, 4, 3, 0, 2, 2, 2, 3, 3,\n",
       "       4, 3, 2, 4, 1, 0, 2, 3, 0, 2, 2, 2, 3, 2, 2, 0, 2, 0, 1, 2, 3, 2,\n",
       "       2, 3, 2, 2, 2, 4, 3, 0, 2, 0, 4, 2, 4, 1, 2, 0, 3, 4, 2, 2, 4, 2,\n",
       "       3, 2, 2, 0, 1, 2, 4, 3, 0, 2, 0, 2, 2, 2, 2, 4, 3, 2, 4, 2, 2, 3,\n",
       "       3, 4, 1, 0, 1, 2, 4, 4, 2, 0, 4, 1, 3, 3, 2, 0, 0, 2, 0, 3, 4, 0,\n",
       "       2, 3, 0, 3, 2, 2, 1, 3, 4, 1, 3, 2, 0, 2, 2, 0, 2, 1, 2, 1, 4, 2,\n",
       "       2, 3, 3, 3, 1, 4, 3, 3, 2, 2, 4, 0, 3, 0, 2, 4, 2, 4, 4, 0, 0, 3,\n",
       "       2, 4, 1, 1, 2, 4, 4, 2, 2, 0, 4, 1, 2, 2, 1, 3, 2, 2, 2, 4, 0, 3,\n",
       "       3, 2, 4, 1, 4, 4, 2, 0, 3, 4, 2, 1, 3, 3, 3, 0, 3, 4, 2, 2, 1, 0,\n",
       "       2, 2, 2, 4, 3, 3, 2, 0, 3, 3, 2, 4, 0, 1, 3, 0, 1, 3, 1, 4, 4, 2,\n",
       "       2, 4, 4, 1, 2, 2, 0, 0, 4, 2, 3, 2, 2, 1, 2, 0, 0, 2, 2, 1, 2, 4,\n",
       "       2, 2, 1, 2, 0, 2, 2, 4, 0, 3, 2, 2, 4, 2, 2, 2, 2, 2, 1, 3, 3, 2,\n",
       "       2, 2, 0, 2, 2, 4, 3, 3, 4, 4, 3, 4, 1, 2, 1, 4, 2, 2, 0, 0, 0, 3,\n",
       "       0, 0, 1, 2, 2, 1, 3, 4, 2, 4, 1, 2, 2, 2, 0, 3, 4, 2, 0, 4, 0, 2,\n",
       "       3, 4, 0, 3, 0, 0, 2, 4, 0, 3, 1, 1, 2, 2, 2, 3, 4, 4, 4, 2, 3, 4,\n",
       "       0, 2, 3, 0, 2, 0, 2, 4, 2, 1, 0, 0, 4, 0, 4, 2, 3, 3, 2, 2, 4, 2,\n",
       "       2, 2, 2, 4, 4, 0, 1, 4, 2, 2, 4, 2, 3, 2, 2, 0, 2, 0, 2, 1, 2, 2,\n",
       "       4, 3, 2, 2, 0, 2, 0, 1, 2, 2, 2, 3, 2, 3, 2, 3, 4, 4, 1, 1, 2, 2,\n",
       "       2, 3, 2, 3, 4, 2, 3, 4, 3, 3, 3, 4, 2, 0, 2, 2, 4, 2, 0, 4, 2, 2,\n",
       "       2, 2, 0, 3, 2, 3, 3, 0, 0])"
      ]
     },
     "execution_count": 68,
     "metadata": {},
     "output_type": "execute_result"
    }
   ],
   "source": [
    "genes_km_clust."
   ]
  },
  {
   "cell_type": "code",
   "execution_count": null,
   "metadata": {},
   "outputs": [],
   "source": []
  }
 ],
 "metadata": {
  "kernelspec": {
   "display_name": "Python 3",
   "language": "python",
   "name": "python3"
  },
  "language_info": {
   "codemirror_mode": {
    "name": "ipython",
    "version": 3
   },
   "file_extension": ".py",
   "mimetype": "text/x-python",
   "name": "python",
   "nbconvert_exporter": "python",
   "pygments_lexer": "ipython3",
   "version": "3.8.3"
  }
 },
 "nbformat": 4,
 "nbformat_minor": 4
}
