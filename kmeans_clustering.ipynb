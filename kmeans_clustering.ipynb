{
 "cells": [
  {
   "cell_type": "markdown",
   "metadata": {},
   "source": [
    "<h3>The purpose of this notebook is to begin applying some basic clustering and dimensionality reduction techniques."
   ]
  },
  {
   "cell_type": "code",
   "execution_count": 1,
   "metadata": {},
   "outputs": [
    {
     "name": "stdout",
     "output_type": "stream",
     "text": [
      "Pandas version used: 1.0.5\n",
      "Numpy version used: 1.18.5\n",
      "SKLearn version used: 0.23.1\n",
      "Matplotlib version used: 3.2.2\n",
      "Yellowbrick version used: 1.1\n"
     ]
    },
    {
     "name": "stderr",
     "output_type": "stream",
     "text": [
      "C:\\Users\\Me\\anaconda3\\lib\\site-packages\\sklearn\\utils\\deprecation.py:143: FutureWarning: The sklearn.metrics.classification module is  deprecated in version 0.22 and will be removed in version 0.24. The corresponding classes / functions should instead be imported from sklearn.metrics. Anything that cannot be imported from sklearn.metrics is now part of the private API.\n",
      "  warnings.warn(message, FutureWarning)\n"
     ]
    }
   ],
   "source": [
    "import pandas as pd\n",
    "import numpy as np\n",
    "import sklearn\n",
    "import matplotlib\n",
    "import matplotlib.pyplot as plt\n",
    "from sklearn.cluster import KMeans\n",
    "from sklearn.decomposition import PCA\n",
    "from sklearn import metrics\n",
    "from sklearn.metrics import silhouette_samples\n",
    "from sklearn.metrics import pairwise_distances\n",
    "import yellowbrick.cluster\n",
    "from yellowbrick.cluster import SilhouetteVisualizer\n",
    "\n",
    "print('Pandas version used: ' + pd.__version__)\n",
    "print('Numpy version used: ' + np.__version__)\n",
    "print('SKLearn version used: ' + sklearn.__version__)\n",
    "print('Matplotlib version used: ' + matplotlib.__version__)\n",
    "print('Yellowbrick version used: ' + yellowbrick.__version__)"
   ]
  },
  {
   "cell_type": "code",
   "execution_count": 2,
   "metadata": {},
   "outputs": [],
   "source": [
    "# Read in the gene expression information:\n",
    "gene_df = pd.read_csv('gene_datasets/gene_data.csv', index_col=0)"
   ]
  },
  {
   "cell_type": "code",
   "execution_count": 3,
   "metadata": {},
   "outputs": [],
   "source": [
    "# Read in the label dataframe. This contains the labels of the type of tumor associated with the sample:\n",
    "label_df = pd.read_csv('gene_datasets/gene_labels.csv', index_col=0)"
   ]
  },
  {
   "cell_type": "markdown",
   "metadata": {},
   "source": [
    "Before applying any other dimensionality reduction or feature engineering, I will apply the KMeans clustering algorithim just to see what kind of results we get as a baseline.\n",
    "\n",
    "I am selecting KMeans because it is a quick and efficient algorithim and I already have an idea of how many clusters I should select. Additionally, no scaling is necessary since the data is already scaled versus an arbitrary reference gene.\n",
    "\n",
    "I am concerned about the 'curse of dimensionality' in this dataset since there are over 20,000 dimensions to consider. It might be worthwhile, if the kmeans clustering is not effective, to do PCA and rerun the algorithim.\n",
    "\n",
    "Any future clustering can be measured against this baseline of the KMean results to see if they result in any significant improvements."
   ]
  },
  {
   "cell_type": "markdown",
   "metadata": {},
   "source": [
    "Since I already know this dataset contains samples of 5 different types of tumors, I will start with n_clusters=5."
   ]
  },
  {
   "cell_type": "code",
   "execution_count": 4,
   "metadata": {},
   "outputs": [],
   "source": [
    "# Set up the initial KMeans settings with 5 clusters, random initialization,\n",
    "# and a max of 100 iterations so we don't spend forever on it:\n",
    "genes_km = KMeans(n_clusters=5,\n",
    "                  init='random',\n",
    "                  max_iter=100)"
   ]
  },
  {
   "cell_type": "code",
   "execution_count": 5,
   "metadata": {},
   "outputs": [],
   "source": [
    "# Fit the model to the dataframe:\n",
    "genes_km_clust = genes_km.fit_predict(gene_df)"
   ]
  },
  {
   "cell_type": "code",
   "execution_count": 6,
   "metadata": {},
   "outputs": [],
   "source": [
    "# Create a new version of the dataframe so we can apply the labels and add a column of the first kmean clustering results:\n",
    "labeled_gene_df = gene_df.copy()"
   ]
  },
  {
   "cell_type": "code",
   "execution_count": 7,
   "metadata": {},
   "outputs": [],
   "source": [
    "# Add the tumor type labels from the label_df:\n",
    "labeled_gene_df.insert(0, 'tumor_type', label_df)"
   ]
  },
  {
   "cell_type": "code",
   "execution_count": 8,
   "metadata": {},
   "outputs": [],
   "source": [
    "# Insert our first results from the kmean clustering as the kmean_base:\n",
    "labeled_gene_df.insert(1, 'kmean_base', genes_km_clust)"
   ]
  },
  {
   "cell_type": "code",
   "execution_count": 9,
   "metadata": {},
   "outputs": [
    {
     "data": {
      "text/html": [
       "<div>\n",
       "<style scoped>\n",
       "    .dataframe tbody tr th:only-of-type {\n",
       "        vertical-align: middle;\n",
       "    }\n",
       "\n",
       "    .dataframe tbody tr th {\n",
       "        vertical-align: top;\n",
       "    }\n",
       "\n",
       "    .dataframe thead th {\n",
       "        text-align: right;\n",
       "    }\n",
       "</style>\n",
       "<table border=\"1\" class=\"dataframe\">\n",
       "  <thead>\n",
       "    <tr style=\"text-align: right;\">\n",
       "      <th></th>\n",
       "      <th>tumor_type</th>\n",
       "      <th>kmean_base</th>\n",
       "      <th>gene_0</th>\n",
       "      <th>gene_1</th>\n",
       "      <th>gene_2</th>\n",
       "      <th>gene_3</th>\n",
       "      <th>gene_4</th>\n",
       "      <th>gene_5</th>\n",
       "      <th>gene_6</th>\n",
       "      <th>gene_7</th>\n",
       "      <th>...</th>\n",
       "      <th>gene_20521</th>\n",
       "      <th>gene_20522</th>\n",
       "      <th>gene_20523</th>\n",
       "      <th>gene_20524</th>\n",
       "      <th>gene_20525</th>\n",
       "      <th>gene_20526</th>\n",
       "      <th>gene_20527</th>\n",
       "      <th>gene_20528</th>\n",
       "      <th>gene_20529</th>\n",
       "      <th>gene_20530</th>\n",
       "    </tr>\n",
       "  </thead>\n",
       "  <tbody>\n",
       "    <tr>\n",
       "      <th>sample_0</th>\n",
       "      <td>PRAD</td>\n",
       "      <td>4</td>\n",
       "      <td>0.0</td>\n",
       "      <td>2.017209</td>\n",
       "      <td>3.265527</td>\n",
       "      <td>5.478487</td>\n",
       "      <td>10.431999</td>\n",
       "      <td>0.0</td>\n",
       "      <td>7.175175</td>\n",
       "      <td>0.591871</td>\n",
       "      <td>...</td>\n",
       "      <td>4.926711</td>\n",
       "      <td>8.210257</td>\n",
       "      <td>9.723516</td>\n",
       "      <td>7.220030</td>\n",
       "      <td>9.119813</td>\n",
       "      <td>12.003135</td>\n",
       "      <td>9.650743</td>\n",
       "      <td>8.921326</td>\n",
       "      <td>5.286759</td>\n",
       "      <td>0.0</td>\n",
       "    </tr>\n",
       "    <tr>\n",
       "      <th>sample_1</th>\n",
       "      <td>LUAD</td>\n",
       "      <td>1</td>\n",
       "      <td>0.0</td>\n",
       "      <td>0.592732</td>\n",
       "      <td>1.588421</td>\n",
       "      <td>7.586157</td>\n",
       "      <td>9.623011</td>\n",
       "      <td>0.0</td>\n",
       "      <td>6.816049</td>\n",
       "      <td>0.000000</td>\n",
       "      <td>...</td>\n",
       "      <td>4.593372</td>\n",
       "      <td>7.323865</td>\n",
       "      <td>9.740931</td>\n",
       "      <td>6.256586</td>\n",
       "      <td>8.381612</td>\n",
       "      <td>12.674552</td>\n",
       "      <td>10.517059</td>\n",
       "      <td>9.397854</td>\n",
       "      <td>2.094168</td>\n",
       "      <td>0.0</td>\n",
       "    </tr>\n",
       "    <tr>\n",
       "      <th>sample_2</th>\n",
       "      <td>PRAD</td>\n",
       "      <td>4</td>\n",
       "      <td>0.0</td>\n",
       "      <td>3.511759</td>\n",
       "      <td>4.327199</td>\n",
       "      <td>6.881787</td>\n",
       "      <td>9.870730</td>\n",
       "      <td>0.0</td>\n",
       "      <td>6.972130</td>\n",
       "      <td>0.452595</td>\n",
       "      <td>...</td>\n",
       "      <td>5.125213</td>\n",
       "      <td>8.127123</td>\n",
       "      <td>10.908640</td>\n",
       "      <td>5.401607</td>\n",
       "      <td>9.911597</td>\n",
       "      <td>9.045255</td>\n",
       "      <td>9.788359</td>\n",
       "      <td>10.090470</td>\n",
       "      <td>1.683023</td>\n",
       "      <td>0.0</td>\n",
       "    </tr>\n",
       "    <tr>\n",
       "      <th>sample_3</th>\n",
       "      <td>PRAD</td>\n",
       "      <td>4</td>\n",
       "      <td>0.0</td>\n",
       "      <td>3.663618</td>\n",
       "      <td>4.507649</td>\n",
       "      <td>6.659068</td>\n",
       "      <td>10.196184</td>\n",
       "      <td>0.0</td>\n",
       "      <td>7.843375</td>\n",
       "      <td>0.434882</td>\n",
       "      <td>...</td>\n",
       "      <td>6.076566</td>\n",
       "      <td>8.792959</td>\n",
       "      <td>10.141520</td>\n",
       "      <td>8.942805</td>\n",
       "      <td>9.601208</td>\n",
       "      <td>11.392682</td>\n",
       "      <td>9.694814</td>\n",
       "      <td>9.684365</td>\n",
       "      <td>3.292001</td>\n",
       "      <td>0.0</td>\n",
       "    </tr>\n",
       "    <tr>\n",
       "      <th>sample_4</th>\n",
       "      <td>BRCA</td>\n",
       "      <td>3</td>\n",
       "      <td>0.0</td>\n",
       "      <td>2.655741</td>\n",
       "      <td>2.821547</td>\n",
       "      <td>6.539454</td>\n",
       "      <td>9.738265</td>\n",
       "      <td>0.0</td>\n",
       "      <td>6.566967</td>\n",
       "      <td>0.360982</td>\n",
       "      <td>...</td>\n",
       "      <td>5.996032</td>\n",
       "      <td>8.891425</td>\n",
       "      <td>10.373790</td>\n",
       "      <td>7.181162</td>\n",
       "      <td>9.846910</td>\n",
       "      <td>11.922439</td>\n",
       "      <td>9.217749</td>\n",
       "      <td>9.461191</td>\n",
       "      <td>5.110372</td>\n",
       "      <td>0.0</td>\n",
       "    </tr>\n",
       "  </tbody>\n",
       "</table>\n",
       "<p>5 rows × 20533 columns</p>\n",
       "</div>"
      ],
      "text/plain": [
       "         tumor_type  kmean_base  gene_0    gene_1    gene_2    gene_3  \\\n",
       "sample_0       PRAD           4     0.0  2.017209  3.265527  5.478487   \n",
       "sample_1       LUAD           1     0.0  0.592732  1.588421  7.586157   \n",
       "sample_2       PRAD           4     0.0  3.511759  4.327199  6.881787   \n",
       "sample_3       PRAD           4     0.0  3.663618  4.507649  6.659068   \n",
       "sample_4       BRCA           3     0.0  2.655741  2.821547  6.539454   \n",
       "\n",
       "             gene_4  gene_5    gene_6    gene_7  ...  gene_20521  gene_20522  \\\n",
       "sample_0  10.431999     0.0  7.175175  0.591871  ...    4.926711    8.210257   \n",
       "sample_1   9.623011     0.0  6.816049  0.000000  ...    4.593372    7.323865   \n",
       "sample_2   9.870730     0.0  6.972130  0.452595  ...    5.125213    8.127123   \n",
       "sample_3  10.196184     0.0  7.843375  0.434882  ...    6.076566    8.792959   \n",
       "sample_4   9.738265     0.0  6.566967  0.360982  ...    5.996032    8.891425   \n",
       "\n",
       "          gene_20523  gene_20524  gene_20525  gene_20526  gene_20527  \\\n",
       "sample_0    9.723516    7.220030    9.119813   12.003135    9.650743   \n",
       "sample_1    9.740931    6.256586    8.381612   12.674552   10.517059   \n",
       "sample_2   10.908640    5.401607    9.911597    9.045255    9.788359   \n",
       "sample_3   10.141520    8.942805    9.601208   11.392682    9.694814   \n",
       "sample_4   10.373790    7.181162    9.846910   11.922439    9.217749   \n",
       "\n",
       "          gene_20528  gene_20529  gene_20530  \n",
       "sample_0    8.921326    5.286759         0.0  \n",
       "sample_1    9.397854    2.094168         0.0  \n",
       "sample_2   10.090470    1.683023         0.0  \n",
       "sample_3    9.684365    3.292001         0.0  \n",
       "sample_4    9.461191    5.110372         0.0  \n",
       "\n",
       "[5 rows x 20533 columns]"
      ]
     },
     "execution_count": 9,
     "metadata": {},
     "output_type": "execute_result"
    }
   ],
   "source": [
    "# Take a look at the new df with the labels and kmean_base columns:\n",
    "labeled_gene_df.head()"
   ]
  },
  {
   "cell_type": "code",
   "execution_count": 10,
   "metadata": {},
   "outputs": [],
   "source": [
    "# In order to get an idea of how close the first kmean clustering was to the actual tumor types, let's separate out\n",
    "# each tumor type into its own dataframe:\n",
    "labeled_gene_df_brca = labeled_gene_df[labeled_gene_df.tumor_type == 'BRCA']\n",
    "labeled_gene_df_luad = labeled_gene_df[labeled_gene_df.tumor_type == 'LUAD']\n",
    "labeled_gene_df_prad = labeled_gene_df[labeled_gene_df.tumor_type == 'PRAD']\n",
    "labeled_gene_df_coad = labeled_gene_df[labeled_gene_df.tumor_type == 'COAD']\n",
    "labeled_gene_df_kirc = labeled_gene_df[labeled_gene_df.tumor_type == 'KIRC']"
   ]
  },
  {
   "cell_type": "code",
   "execution_count": 11,
   "metadata": {},
   "outputs": [
    {
     "name": "stdout",
     "output_type": "stream",
     "text": [
      "BRCA: (array([1, 3]), array([  1, 299], dtype=int64))\n",
      "LUAD: (array([1, 3]), array([139,   2], dtype=int64))\n",
      "PRAD: (array([4]), array([136], dtype=int64))\n",
      "COAD: (array([1, 2]), array([ 2, 76], dtype=int64))\n",
      "KIRC: (array([0, 3]), array([145,   1], dtype=int64))\n"
     ]
    }
   ],
   "source": [
    "# Print the unique values within the kmean_base column and their associated counts:\n",
    "print('BRCA:',np.unique(labeled_gene_df_brca.kmean_base, return_counts=True))\n",
    "print('LUAD:',np.unique(labeled_gene_df_luad.kmean_base, return_counts=True))\n",
    "print('PRAD:',np.unique(labeled_gene_df_prad.kmean_base, return_counts=True))\n",
    "print('COAD:',np.unique(labeled_gene_df_coad.kmean_base, return_counts=True))\n",
    "print('KIRC:',np.unique(labeled_gene_df_kirc.kmean_base, return_counts=True))"
   ]
  },
  {
   "cell_type": "code",
   "execution_count": 22,
   "metadata": {},
   "outputs": [
    {
     "data": {
      "text/plain": [
       "(array([0, 3]), array([145,   1], dtype=int64))"
      ]
     },
     "execution_count": 22,
     "metadata": {},
     "output_type": "execute_result"
    }
   ],
   "source": [
    "np.unique(labeled_gene_df_kirc.kmean_base, return_counts=True)"
   ]
  },
  {
   "cell_type": "markdown",
   "metadata": {},
   "source": [
    "A bit unexpected-- the basic kmean clustering performed pretty much flawlessly in clustering the samples by the type of tumor the sample was associated with. Only 1 or 2 from each tumor sample were clustered differently\n",
    "\n",
    "This is good news, since it seems to suggest that the gene expression levels amongst the different tumor samples follow a specific pattern that could perhaps be used to direct treatments or diagnose patients."
   ]
  },
  {
   "cell_type": "code",
   "execution_count": 12,
   "metadata": {},
   "outputs": [
    {
     "data": {
      "text/plain": [
       "0.22469293361216375"
      ]
     },
     "execution_count": 12,
     "metadata": {},
     "output_type": "execute_result"
    }
   ],
   "source": [
    "# Just for completeness' sake, let's check the silhouette score for this model:\n",
    "metrics.silhouette_score(gene_df, genes_km.labels_)"
   ]
  },
  {
   "cell_type": "markdown",
   "metadata": {},
   "source": [
    "The silhouette score is not terribly good, but that's not surprising given how many dimensions this dataset has. The fact that it is not negative, at least, is a good sign but there is probably a good bit of overlap.\n",
    "\n",
    "According to the documentation, the silhouette score is best for convex clusters which we are unlikely to have.\n",
    "\n",
    "Fortunately, we have some degree of 'ground truth' with the sample labels."
   ]
  },
  {
   "cell_type": "code",
   "execution_count": 13,
   "metadata": {},
   "outputs": [
    {
     "data": {
      "text/plain": [
       "17801949.109766033"
      ]
     },
     "execution_count": 13,
     "metadata": {},
     "output_type": "execute_result"
    }
   ],
   "source": [
    "# Let's also check the inertia:\n",
    "genes_km.inertia_"
   ]
  },
  {
   "cell_type": "markdown",
   "metadata": {},
   "source": [
    "The inertia is extremely high, but this is expected with a dataset of this many dimensions."
   ]
  },
  {
   "cell_type": "markdown",
   "metadata": {},
   "source": [
    "Since that first attempt at clustering was so successful already, I will move on to attempting to cluster the transposed form of the gene dataframe.\n",
    "\n",
    "With that I will attempt to cluster the genes together based off of their levels of expression across the 801 samples. Genes that cluster together might activate one another or work together towards some kind of function that could be related to the formation/growth of the tumors.\n",
    "\n",
    "From the journal article, Clustering Algorithms: Their Application to Gene Expression Data: \"patterns have been detected with genes, making it easier to pick out genes with related functions.\"\n",
    "\n",
    "Treatments that address multiple genes might be more effective than those at only target a few.\n",
    "\n",
    "Since there is not an obvious number of clusters to select for the genes, I will need to find an optimal number of clusters to organize the genes into."
   ]
  },
  {
   "cell_type": "code",
   "execution_count": 14,
   "metadata": {},
   "outputs": [],
   "source": [
    "# Create a transposed version of the gene dataframe:\n",
    "T_gene_df = gene_df.transpose()"
   ]
  },
  {
   "cell_type": "code",
   "execution_count": 15,
   "metadata": {},
   "outputs": [
    {
     "data": {
      "text/html": [
       "<div>\n",
       "<style scoped>\n",
       "    .dataframe tbody tr th:only-of-type {\n",
       "        vertical-align: middle;\n",
       "    }\n",
       "\n",
       "    .dataframe tbody tr th {\n",
       "        vertical-align: top;\n",
       "    }\n",
       "\n",
       "    .dataframe thead th {\n",
       "        text-align: right;\n",
       "    }\n",
       "</style>\n",
       "<table border=\"1\" class=\"dataframe\">\n",
       "  <thead>\n",
       "    <tr style=\"text-align: right;\">\n",
       "      <th></th>\n",
       "      <th>sample_0</th>\n",
       "      <th>sample_1</th>\n",
       "      <th>sample_2</th>\n",
       "      <th>sample_3</th>\n",
       "      <th>sample_4</th>\n",
       "      <th>sample_5</th>\n",
       "      <th>sample_6</th>\n",
       "      <th>sample_7</th>\n",
       "      <th>sample_8</th>\n",
       "      <th>sample_9</th>\n",
       "      <th>...</th>\n",
       "      <th>sample_791</th>\n",
       "      <th>sample_792</th>\n",
       "      <th>sample_793</th>\n",
       "      <th>sample_794</th>\n",
       "      <th>sample_795</th>\n",
       "      <th>sample_796</th>\n",
       "      <th>sample_797</th>\n",
       "      <th>sample_798</th>\n",
       "      <th>sample_799</th>\n",
       "      <th>sample_800</th>\n",
       "    </tr>\n",
       "  </thead>\n",
       "  <tbody>\n",
       "    <tr>\n",
       "      <th>gene_0</th>\n",
       "      <td>0.000000</td>\n",
       "      <td>0.000000</td>\n",
       "      <td>0.000000</td>\n",
       "      <td>0.000000</td>\n",
       "      <td>0.000000</td>\n",
       "      <td>0.000000</td>\n",
       "      <td>0.000000</td>\n",
       "      <td>0.000000</td>\n",
       "      <td>0.000000</td>\n",
       "      <td>0.000000</td>\n",
       "      <td>...</td>\n",
       "      <td>0.000000</td>\n",
       "      <td>0.000000</td>\n",
       "      <td>0.000000</td>\n",
       "      <td>0.000000</td>\n",
       "      <td>0.436588</td>\n",
       "      <td>0.000000</td>\n",
       "      <td>0.000000</td>\n",
       "      <td>0.000000</td>\n",
       "      <td>0.000000</td>\n",
       "      <td>0.000000</td>\n",
       "    </tr>\n",
       "    <tr>\n",
       "      <th>gene_1</th>\n",
       "      <td>2.017209</td>\n",
       "      <td>0.592732</td>\n",
       "      <td>3.511759</td>\n",
       "      <td>3.663618</td>\n",
       "      <td>2.655741</td>\n",
       "      <td>3.467853</td>\n",
       "      <td>1.224966</td>\n",
       "      <td>2.854853</td>\n",
       "      <td>3.992125</td>\n",
       "      <td>3.642494</td>\n",
       "      <td>...</td>\n",
       "      <td>3.080061</td>\n",
       "      <td>4.337404</td>\n",
       "      <td>2.068224</td>\n",
       "      <td>4.288388</td>\n",
       "      <td>4.472176</td>\n",
       "      <td>1.865642</td>\n",
       "      <td>3.942955</td>\n",
       "      <td>3.249582</td>\n",
       "      <td>2.590339</td>\n",
       "      <td>2.325242</td>\n",
       "    </tr>\n",
       "    <tr>\n",
       "      <th>gene_2</th>\n",
       "      <td>3.265527</td>\n",
       "      <td>1.588421</td>\n",
       "      <td>4.327199</td>\n",
       "      <td>4.507649</td>\n",
       "      <td>2.821547</td>\n",
       "      <td>3.581918</td>\n",
       "      <td>1.691177</td>\n",
       "      <td>1.750478</td>\n",
       "      <td>2.772730</td>\n",
       "      <td>4.423558</td>\n",
       "      <td>...</td>\n",
       "      <td>2.815739</td>\n",
       "      <td>2.597126</td>\n",
       "      <td>0.857663</td>\n",
       "      <td>3.452490</td>\n",
       "      <td>4.908746</td>\n",
       "      <td>2.718197</td>\n",
       "      <td>4.453807</td>\n",
       "      <td>3.707492</td>\n",
       "      <td>2.787976</td>\n",
       "      <td>3.805932</td>\n",
       "    </tr>\n",
       "    <tr>\n",
       "      <th>gene_3</th>\n",
       "      <td>5.478487</td>\n",
       "      <td>7.586157</td>\n",
       "      <td>6.881787</td>\n",
       "      <td>6.659068</td>\n",
       "      <td>6.539454</td>\n",
       "      <td>6.620243</td>\n",
       "      <td>6.572007</td>\n",
       "      <td>7.226720</td>\n",
       "      <td>6.546692</td>\n",
       "      <td>6.849511</td>\n",
       "      <td>...</td>\n",
       "      <td>6.209617</td>\n",
       "      <td>6.070379</td>\n",
       "      <td>6.218739</td>\n",
       "      <td>7.209151</td>\n",
       "      <td>5.937848</td>\n",
       "      <td>7.350099</td>\n",
       "      <td>6.346597</td>\n",
       "      <td>8.185901</td>\n",
       "      <td>7.318624</td>\n",
       "      <td>6.530246</td>\n",
       "    </tr>\n",
       "    <tr>\n",
       "      <th>gene_4</th>\n",
       "      <td>10.431999</td>\n",
       "      <td>9.623011</td>\n",
       "      <td>9.870730</td>\n",
       "      <td>10.196184</td>\n",
       "      <td>9.738265</td>\n",
       "      <td>9.706829</td>\n",
       "      <td>9.640511</td>\n",
       "      <td>9.758691</td>\n",
       "      <td>10.488252</td>\n",
       "      <td>9.464466</td>\n",
       "      <td>...</td>\n",
       "      <td>9.644469</td>\n",
       "      <td>9.863990</td>\n",
       "      <td>10.623068</td>\n",
       "      <td>9.875620</td>\n",
       "      <td>9.330901</td>\n",
       "      <td>10.006003</td>\n",
       "      <td>10.056868</td>\n",
       "      <td>9.504082</td>\n",
       "      <td>9.987136</td>\n",
       "      <td>9.560367</td>\n",
       "    </tr>\n",
       "  </tbody>\n",
       "</table>\n",
       "<p>5 rows × 801 columns</p>\n",
       "</div>"
      ],
      "text/plain": [
       "         sample_0  sample_1  sample_2   sample_3  sample_4  sample_5  \\\n",
       "gene_0   0.000000  0.000000  0.000000   0.000000  0.000000  0.000000   \n",
       "gene_1   2.017209  0.592732  3.511759   3.663618  2.655741  3.467853   \n",
       "gene_2   3.265527  1.588421  4.327199   4.507649  2.821547  3.581918   \n",
       "gene_3   5.478487  7.586157  6.881787   6.659068  6.539454  6.620243   \n",
       "gene_4  10.431999  9.623011  9.870730  10.196184  9.738265  9.706829   \n",
       "\n",
       "        sample_6  sample_7   sample_8  sample_9  ...  sample_791  sample_792  \\\n",
       "gene_0  0.000000  0.000000   0.000000  0.000000  ...    0.000000    0.000000   \n",
       "gene_1  1.224966  2.854853   3.992125  3.642494  ...    3.080061    4.337404   \n",
       "gene_2  1.691177  1.750478   2.772730  4.423558  ...    2.815739    2.597126   \n",
       "gene_3  6.572007  7.226720   6.546692  6.849511  ...    6.209617    6.070379   \n",
       "gene_4  9.640511  9.758691  10.488252  9.464466  ...    9.644469    9.863990   \n",
       "\n",
       "        sample_793  sample_794  sample_795  sample_796  sample_797  \\\n",
       "gene_0    0.000000    0.000000    0.436588    0.000000    0.000000   \n",
       "gene_1    2.068224    4.288388    4.472176    1.865642    3.942955   \n",
       "gene_2    0.857663    3.452490    4.908746    2.718197    4.453807   \n",
       "gene_3    6.218739    7.209151    5.937848    7.350099    6.346597   \n",
       "gene_4   10.623068    9.875620    9.330901   10.006003   10.056868   \n",
       "\n",
       "        sample_798  sample_799  sample_800  \n",
       "gene_0    0.000000    0.000000    0.000000  \n",
       "gene_1    3.249582    2.590339    2.325242  \n",
       "gene_2    3.707492    2.787976    3.805932  \n",
       "gene_3    8.185901    7.318624    6.530246  \n",
       "gene_4    9.504082    9.987136    9.560367  \n",
       "\n",
       "[5 rows x 801 columns]"
      ]
     },
     "execution_count": 15,
     "metadata": {},
     "output_type": "execute_result"
    }
   ],
   "source": [
    "# Make sure that worked as intended:\n",
    "T_gene_df.head()"
   ]
  },
  {
   "cell_type": "markdown",
   "metadata": {},
   "source": [
    "To start out, I will use the elbow method using interia on the transposed dataframe to see if I can elucidate a decent value for k:"
   ]
  },
  {
   "cell_type": "code",
   "execution_count": 16,
   "metadata": {},
   "outputs": [],
   "source": [
    "inertia_values = []\n",
    "for n in range(1,20):\n",
    "    km = KMeans(n_clusters = n,\n",
    "                init = 'random',\n",
    "                max_iter = 100)\n",
    "    km.fit(T_gene_df)\n",
    "    inertia_values.append(km.inertia_)"
   ]
  },
  {
   "cell_type": "code",
   "execution_count": 17,
   "metadata": {},
   "outputs": [
    {
     "data": {
      "image/png": "[encoded data removed]",
      "text/plain": [
       "<Figure size 576x396 with 1 Axes>"
      ]
     },
     "metadata": {},
     "output_type": "display_data"
    }
   ],
   "source": [
    "plt.plot(range(1,20), inertia_values, marker='x')\n",
    "plt.xlabel('Number of clusters')\n",
    "plt.ylabel('Inertia Value')\n",
    "plt.show()"
   ]
  },
  {
   "cell_type": "markdown",
   "metadata": {},
   "source": [
    "Based off of this plot, it seems to me that 2 or 3 might be the optimal number of clusters for the genes, but 4 and 5 might be worth looking at too. Let's start with 2 and 3 and then look at 4 and 5 clusters to compare.\n",
    "\n",
    "It might also just be tough to determine a proper amount of clusters with so many dimensions (801)."
   ]
  },
  {
   "cell_type": "code",
   "execution_count": 18,
   "metadata": {},
   "outputs": [
    {
     "name": "stderr",
     "output_type": "stream",
     "text": [
      "C:\\Users\\Me\\anaconda3\\lib\\site-packages\\sklearn\\base.py:209: FutureWarning: From version 0.24, get_params will raise an AttributeError if a parameter cannot be retrieved as an instance attribute. Previously it would return None.\n",
      "  warnings.warn('From version 0.24, get_params will raise an '\n"
     ]
    },
    {
     "data": {
      "text/plain": [
       "SilhouetteVisualizer(ax=<matplotlib.axes._subplots.AxesSubplot object at 0x0000022B7F794D00>,\n",
       "                     model=None)"
      ]
     },
     "execution_count": 18,
     "metadata": {},
     "output_type": "execute_result"
    },
    {
     "data": {
      "image/png": "[encoded data removed]",
      "text/plain": [
       "<Figure size 576x396 with 1 Axes>"
      ]
     },
     "metadata": {},
     "output_type": "display_data"
    }
   ],
   "source": [
    "gene_exp_km_2 = KMeans(n_clusters = 2,\n",
    "            init = 'random',\n",
    "            max_iter = 100)\n",
    "gene_exp_km_clust = gene_exp_km_2.fit_predict(T_gene_df)\n",
    "sil_vis = SilhouetteVisualizer(gene_exp_km_2)\n",
    "sil_vis.fit(T_gene_df)"
   ]
  },
  {
   "cell_type": "code",
   "execution_count": 19,
   "metadata": {},
   "outputs": [
    {
     "name": "stderr",
     "output_type": "stream",
     "text": [
      "C:\\Users\\Me\\anaconda3\\lib\\site-packages\\sklearn\\base.py:209: FutureWarning: From version 0.24, get_params will raise an AttributeError if a parameter cannot be retrieved as an instance attribute. Previously it would return None.\n",
      "  warnings.warn('From version 0.24, get_params will raise an '\n"
     ]
    },
    {
     "data": {
      "text/plain": [
       "SilhouetteVisualizer(ax=<matplotlib.axes._subplots.AxesSubplot object at 0x0000022B04D25D30>,\n",
       "                     model=None)"
      ]
     },
     "execution_count": 19,
     "metadata": {},
     "output_type": "execute_result"
    },
    {
     "data": {
      "image/png": "[encoded data removed]",
      "text/plain": [
       "<Figure size 576x396 with 1 Axes>"
      ]
     },
     "metadata": {},
     "output_type": "display_data"
    }
   ],
   "source": [
    "gene_exp_km_3 = KMeans(n_clusters = 3,\n",
    "            init = 'random',\n",
    "            max_iter = 100)\n",
    "gene_exp_km_clust = gene_exp_km_3.fit_predict(T_gene_df)\n",
    "sil_vis = SilhouetteVisualizer(gene_exp_km_3)\n",
    "sil_vis.fit(T_gene_df)"
   ]
  },
  {
   "cell_type": "markdown",
   "metadata": {},
   "source": [
    "Now let's plot the silhouette scores and see if k=4 works out well:"
   ]
  },
  {
   "cell_type": "code",
   "execution_count": 20,
   "metadata": {},
   "outputs": [
    {
     "name": "stderr",
     "output_type": "stream",
     "text": [
      "C:\\Users\\Me\\anaconda3\\lib\\site-packages\\sklearn\\base.py:209: FutureWarning: From version 0.24, get_params will raise an AttributeError if a parameter cannot be retrieved as an instance attribute. Previously it would return None.\n",
      "  warnings.warn('From version 0.24, get_params will raise an '\n"
     ]
    },
    {
     "data": {
      "text/plain": [
       "SilhouetteVisualizer(ax=<matplotlib.axes._subplots.AxesSubplot object at 0x0000022B74577AC0>,\n",
       "                     model=None)"
      ]
     },
     "execution_count": 20,
     "metadata": {},
     "output_type": "execute_result"
    },
    {
     "data": {
      "image/png": "[encoded data removed]",
      "text/plain": [
       "<Figure size 576x396 with 1 Axes>"
      ]
     },
     "metadata": {},
     "output_type": "display_data"
    }
   ],
   "source": [
    "gene_exp_km_4 = KMeans(n_clusters = 4,\n",
    "            init = 'random',\n",
    "            max_iter = 100)\n",
    "gene_exp_km_clust = gene_exp_km_4.fit_predict(T_gene_df)\n",
    "sil_vis = SilhouetteVisualizer(gene_exp_km_4)\n",
    "sil_vis.fit(T_gene_df)"
   ]
  },
  {
   "cell_type": "markdown",
   "metadata": {},
   "source": [
    "Finally we'll see what kind of plot k=5 produces:"
   ]
  },
  {
   "cell_type": "code",
   "execution_count": 21,
   "metadata": {},
   "outputs": [
    {
     "name": "stderr",
     "output_type": "stream",
     "text": [
      "C:\\Users\\Me\\anaconda3\\lib\\site-packages\\sklearn\\base.py:209: FutureWarning: From version 0.24, get_params will raise an AttributeError if a parameter cannot be retrieved as an instance attribute. Previously it would return None.\n",
      "  warnings.warn('From version 0.24, get_params will raise an '\n"
     ]
    },
    {
     "data": {
      "text/plain": [
       "SilhouetteVisualizer(ax=<matplotlib.axes._subplots.AxesSubplot object at 0x0000022B74AD1FD0>,\n",
       "                     model=None)"
      ]
     },
     "execution_count": 21,
     "metadata": {},
     "output_type": "execute_result"
    },
    {
     "data": {
      "image/png": "[encoded data removed]",
      "text/plain": [
       "<Figure size 576x396 with 1 Axes>"
      ]
     },
     "metadata": {},
     "output_type": "display_data"
    }
   ],
   "source": [
    "gene_exp_km_5 = KMeans(n_clusters = 5,\n",
    "            init = 'random',\n",
    "            max_iter = 100)\n",
    "gene_exp_km_clust = gene_exp_km_5.fit_predict(T_gene_df)\n",
    "sil_vis = SilhouetteVisualizer(gene_exp_km_5)\n",
    "sil_vis.fit(T_gene_df)"
   ]
  },
  {
   "cell_type": "markdown",
   "metadata": {},
   "source": [
    "It's tough to say definitively which cluster number is best, but it seems like it has to be either 2 or 3 based off of these plots. 4 and 5 have very inconsistent shapes and low overall silhouette scores.\n",
    "\n",
    "It might be that KMeans is not a good choice for clustering the gene expressions together."
   ]
  },
  {
   "cell_type": "code",
   "execution_count": null,
   "metadata": {},
   "outputs": [],
   "source": []
  }
 ],
 "metadata": {
  "kernelspec": {
   "display_name": "Python 3",
   "language": "python",
   "name": "python3"
  },
  "language_info": {
   "codemirror_mode": {
    "name": "ipython",
    "version": 3
   },
   "file_extension": ".py",
   "mimetype": "text/x-python",
   "name": "python",
   "nbconvert_exporter": "python",
   "pygments_lexer": "ipython3",
   "version": "3.8.3"
  }
 },
 "nbformat": 4,
 "nbformat_minor": 4
}
