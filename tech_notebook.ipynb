{
 "cells": [
  {
   "cell_type": "markdown",
   "metadata": {},
   "source": [
    "<h1>Scenario: Gene Expression and Tumours"
   ]
  },
  {
   "cell_type": "markdown",
   "metadata": {},
   "source": [
    "<h1>Abstract"
   ]
  },
  {
   "cell_type": "markdown",
   "metadata": {},
   "source": [
    "Blue Genes Pharmaceuticals is a interested in improving their cancer fighting drugs by targetting the expression of specific genes.\n",
    "<br><br>\n",
    "They recently received gene expression data across 20,531 different genes from 801 samples taken from patients who were presenting with tumors from one of five different categories.\n",
    "<br><br>\n",
    "In the interest of directing future treatments, they have decided to apply unsupervised clustering algorithims to this dataset in order to locate genes or groups of genes that might play a role in development of tumors.\n",
    "<br><br>\n",
    "Initial KMeans clustering on the samples created groups that lined up almost perfectly with how the samples would be divided by type of tumor.\n",
    "<br><br>\n",
    "Kmeans clustering of the genes was more difficult, and did not seem to yield as much insight as the optimal number of clusters based on silhouette scores were too small (only 2 or 3 over 20,531 samples).\n",
    "<br><br>\n",
    "The focus of future work with this dataset, if time allowed, would be performing further feature engineering with the transposed dataset to try to elucidate more specific groupings from the data.\n",
    "\n",
    "While the experiments confirmed that the gene expression levels do cluster in a way specific to the type of tumor they are associated with, which is very useful, it was not clear which, if any, groups of genes are working in tandem to produce or sustain the tumors."
   ]
  },
  {
   "cell_type": "markdown",
   "metadata": {},
   "source": [
    "<h1>Introduction"
   ]
  },
  {
   "cell_type": "markdown",
   "metadata": {},
   "source": [
    "Cancer is, at its core, known to be a disease heavily influenced by genetics. It follows, then, that discovering the patterns in the expression of various genes is a good way to inform pharmaceutical research and produce tests for different types of cancers.\n",
    "\n",
    "If tumors are regularly 'caused' by or allowed to grow by the activation of certain genes, then developing treatments to inhibit the expression of these genes may prove beneficial to patient outcomes.\n",
    "\n",
    "Additionally, if gene expression is consistent across patients with particular types of tumors, than gene expression levels could be an early way to identify patients who are likely to develop cancer (or already have)."
   ]
  },
  {
   "cell_type": "markdown",
   "metadata": {},
   "source": [
    "<h1>Motivation"
   ]
  },
  {
   "cell_type": "markdown",
   "metadata": {},
   "source": [
    "If gene expression data can be clustered meaningfully based on levels and the resulting clusters match groups of samples from certain types of tumors, then it would be worthwhile to continue gathering data on gene expression levels and focusing on those genes or groups of genes that seem to be expressed at high levels.\n",
    "\n",
    "It is possible that, with those genes inactivated, cancer patients might see improvements in their symptoms or we might be able to prevent the tumor from forming to begin with if caught early enough in the process.\n",
    "\n",
    "Since cancer is such a devastating and complicated disease, any insight into how it functions and which genes are responsible for it would be extremely useful"
   ]
  },
  {
   "cell_type": "markdown",
   "metadata": {},
   "source": [
    "<h1>Related Work"
   ]
  },
  {
   "cell_type": "markdown",
   "metadata": {},
   "source": [
    "There are many papers written about gene expression levels, and it is well known that there are insights to be found within data of this variety.\n",
    "\n",
    "Once such paper from the project (Pan-Cancer Analysis project) that produced this dataset is:\n",
    "\n",
    "https://www.ncbi.nlm.nih.gov/pmc/articles/PMC3919969/#R4"
   ]
  },
  {
   "cell_type": "markdown",
   "metadata": {},
   "source": [
    "<h1>Proposed Method"
   ]
  },
  {
   "cell_type": "markdown",
   "metadata": {},
   "source": [
    "Since this is a dataset with so many dimensions such that p >> n, I thought KMeans clustering would be a good and resource efficient technique to use to cluster this data.\n",
    "\n",
    "I would start by clustering based off of samples and seeing if the resulting clusters corresponded to the types of tumors the samples are associated with. If the clusters seem to match up with the types of tumors, then it would be a good sign that there are commonalities in gene expression levels that can potentially be exploited to develop new tests/treatments for different kinds of tumors.\n",
    "\n",
    "After that, I attempted to group the genes together into 'families' of sorts that might act in unison to form/grow the various tumors. If there are distinct clusters amongst the genes, then it might be worthwile to look into these specific groupings as targets for pharmaceutical research."
   ]
  },
  {
   "cell_type": "markdown",
   "metadata": {},
   "source": [
    "<h1>Experiments"
   ]
  },
  {
   "cell_type": "markdown",
   "metadata": {},
   "source": [
    "Initial data checking and exploration occured in this notebook: https://github.com/dbbabcock/data_602_hw2_gene_clustering/blob/main/initial_eda.ipynb"
   ]
  },
  {
   "cell_type": "markdown",
   "metadata": {},
   "source": [
    "Clustering using KMeans and the resulting metrics are in this notebook: https://github.com/dbbabcock/data_602_hw2_gene_clustering/blob/main/kmeans_clustering.ipynb"
   ]
  },
  {
   "cell_type": "markdown",
   "metadata": {},
   "source": [
    "The initial KMeans clustering of the samples was very successful and corresponded almost exactly to the types of tumors the samples were associated with.\n",
    "\n",
    "With 5 clusters (the number of tumors we \n",
    "\n",
    "It's hard to imagine a better clustering, and the few misplaced were likely the results of noise."
   ]
  },
  {
   "cell_type": "markdown",
   "metadata": {},
   "source": [
    "Clustering based on gene expression levels was more difficult, and it was tough to find the optimal number of clusters:"
   ]
  },
  {
   "cell_type": "markdown",
   "metadata": {},
   "source": [
    "![Elbow Graph Using Kmeans Inertia](images/elbow_graph.png)"
   ]
  },
  {
   "cell_type": "markdown",
   "metadata": {},
   "source": [
    "While the graph suggested somewhere between 2 and 5 clusters were ideal, the silhouette graphs were not clear cut:"
   ]
  },
  {
   "cell_type": "markdown",
   "metadata": {},
   "source": [
    "![Silhouette 2 Clusters](images/sil_2_graph.png)"
   ]
  },
  {
   "cell_type": "markdown",
   "metadata": {},
   "source": [
    "![Silhouette 3 Clusters](images/sil_3_graph.png)"
   ]
  },
  {
   "cell_type": "markdown",
   "metadata": {},
   "source": [
    "![Silhouette 4 Clusters](images/sil_4_graph.png)"
   ]
  },
  {
   "cell_type": "markdown",
   "metadata": {},
   "source": [
    "![Silhouette 3 Clusters](images/sil_5_graph.png)"
   ]
  },
  {
   "cell_type": "markdown",
   "metadata": {},
   "source": [
    "<h1>Results and Discussion"
   ]
  },
  {
   "cell_type": "markdown",
   "metadata": {},
   "source": [
    "It was great to see how easily the samples clustered, but it was frustrating that the transposed dataframe could not be as easily clustered.\n",
    "\n",
    "Overall, it's good to know that the gene expression levels definitely tend to correspond to the different types of tumors. This is extremely useful for future research."
   ]
  },
  {
   "cell_type": "markdown",
   "metadata": {},
   "source": [
    "<h1>Conclusion and Summary"
   ]
  },
  {
   "cell_type": "markdown",
   "metadata": {},
   "source": [
    "In conclusion, the clustering was successful in the way that mattered most. Additional research and work can be done to feature engineer the transposed dataset and attempt to find more information about the gene expressions."
   ]
  },
  {
   "cell_type": "markdown",
   "metadata": {},
   "source": [
    "<h1>Limitations and Later Work"
   ]
  },
  {
   "cell_type": "markdown",
   "metadata": {},
   "source": []
  }
 ],
 "metadata": {
  "kernelspec": {
   "display_name": "Python 3",
   "language": "python",
   "name": "python3"
  },
  "language_info": {
   "codemirror_mode": {
    "name": "ipython",
    "version": 3
   },
   "file_extension": ".py",
   "mimetype": "text/x-python",
   "name": "python",
   "nbconvert_exporter": "python",
   "pygments_lexer": "ipython3",
   "version": "3.8.3"
  }
 },
 "nbformat": 4,
 "nbformat_minor": 4
}
